{
 "cells": [
  {
   "cell_type": "code",
   "execution_count": 15,
   "id": "831154fe",
   "metadata": {},
   "outputs": [],
   "source": [
    "#!pip install pandas"
   ]
  },
  {
   "cell_type": "code",
   "execution_count": 16,
   "id": "4b4c6bdc",
   "metadata": {},
   "outputs": [],
   "source": [
    "import requests\n",
    "import json\n",
    "\n",
    "import pandas as pd"
   ]
  },
  {
   "cell_type": "markdown",
   "id": "8db55023",
   "metadata": {},
   "source": [
    "## Obter usuários"
   ]
  },
  {
   "cell_type": "code",
   "execution_count": 12,
   "id": "a039f5d7",
   "metadata": {},
   "outputs": [
    {
     "data": {
      "text/plain": [
       "[{'data_criacao': '2023-02-09T07:43:00.369991',\n",
       "  'versao': 1,\n",
       "  'nome_usuario': 'fulano0',\n",
       "  'id': 1,\n",
       "  'data_atualizacao': '2023-02-09T07:43:00.369996',\n",
       "  'nome': 'Fulano 0'},\n",
       " {'data_criacao': '2023-02-09T07:43:00.378731',\n",
       "  'versao': 1,\n",
       "  'nome_usuario': 'fulano2',\n",
       "  'id': 3,\n",
       "  'data_atualizacao': '2023-02-09T07:43:00.378735',\n",
       "  'nome': 'Fulano 2'},\n",
       " {'data_criacao': '2023-02-09T07:43:00.384959',\n",
       "  'versao': 1,\n",
       "  'nome_usuario': 'fulano4',\n",
       "  'id': 5,\n",
       "  'data_atualizacao': '2023-02-09T07:43:00.384963',\n",
       "  'nome': 'Fulano 4'},\n",
       " {'data_criacao': '2023-02-09T07:43:00.388143',\n",
       "  'versao': 1,\n",
       "  'nome_usuario': 'fulano5',\n",
       "  'id': 6,\n",
       "  'data_atualizacao': '2023-02-09T07:43:00.388147',\n",
       "  'nome': 'Fulano 5'},\n",
       " {'data_criacao': '2023-02-09T07:43:00.391296',\n",
       "  'versao': 1,\n",
       "  'nome_usuario': 'fulano6',\n",
       "  'id': 7,\n",
       "  'data_atualizacao': '2023-02-09T07:43:00.391300',\n",
       "  'nome': 'Fulano 6'},\n",
       " {'data_criacao': '2023-02-09T07:43:00.394542',\n",
       "  'versao': 1,\n",
       "  'nome_usuario': 'fulano7',\n",
       "  'id': 8,\n",
       "  'data_atualizacao': '2023-02-09T07:43:00.394546',\n",
       "  'nome': 'Fulano 7'},\n",
       " {'data_criacao': '2023-02-09T07:43:00.397776',\n",
       "  'versao': 1,\n",
       "  'nome_usuario': 'fulano8',\n",
       "  'id': 9,\n",
       "  'data_atualizacao': '2023-02-09T07:43:00.397779',\n",
       "  'nome': 'Fulano 8'},\n",
       " {'data_criacao': '2023-02-09T07:43:00.401041',\n",
       "  'versao': 1,\n",
       "  'nome_usuario': 'fulano9',\n",
       "  'id': 10,\n",
       "  'data_atualizacao': '2023-02-09T07:43:00.401045',\n",
       "  'nome': 'Fulano 9'},\n",
       " {'data_criacao': '2023-02-09T08:23:44.014494',\n",
       "  'versao': 1,\n",
       "  'nome_usuario': 'usuario1',\n",
       "  'id': 11,\n",
       "  'data_atualizacao': '2023-02-09T08:23:44.014500',\n",
       "  'nome': 'Usuário'},\n",
       " {'data_criacao': '2023-02-09T08:27:30.092728',\n",
       "  'versao': 1,\n",
       "  'nome_usuario': 'usuario10',\n",
       "  'id': 12,\n",
       "  'data_atualizacao': '2023-02-09T08:27:30.092734',\n",
       "  'nome': 'Usuário 10'}]"
      ]
     },
     "execution_count": 12,
     "metadata": {},
     "output_type": "execute_result"
    }
   ],
   "source": [
    "url = \"http://127.0.0.1:8000/usuarios/usuarios\"\n",
    "\n",
    "payload={}\n",
    "headers = {\n",
    "  'accept': 'application/json'\n",
    "}\n",
    "\n",
    "response = requests.request(\"GET\", url, headers=headers, data=payload)\n",
    "\n",
    "retorno = json.loads(response.text)\n",
    "retorno"
   ]
  },
  {
   "cell_type": "code",
   "execution_count": 17,
   "id": "2586df8b",
   "metadata": {},
   "outputs": [
    {
     "data": {
      "text/html": [
       "<div>\n",
       "<style scoped>\n",
       "    .dataframe tbody tr th:only-of-type {\n",
       "        vertical-align: middle;\n",
       "    }\n",
       "\n",
       "    .dataframe tbody tr th {\n",
       "        vertical-align: top;\n",
       "    }\n",
       "\n",
       "    .dataframe thead th {\n",
       "        text-align: right;\n",
       "    }\n",
       "</style>\n",
       "<table border=\"1\" class=\"dataframe\">\n",
       "  <thead>\n",
       "    <tr style=\"text-align: right;\">\n",
       "      <th></th>\n",
       "      <th>data_criacao</th>\n",
       "      <th>versao</th>\n",
       "      <th>nome_usuario</th>\n",
       "      <th>id</th>\n",
       "      <th>data_atualizacao</th>\n",
       "      <th>nome</th>\n",
       "    </tr>\n",
       "  </thead>\n",
       "  <tbody>\n",
       "    <tr>\n",
       "      <th>0</th>\n",
       "      <td>2023-02-09T07:43:00.369991</td>\n",
       "      <td>1</td>\n",
       "      <td>fulano0</td>\n",
       "      <td>1</td>\n",
       "      <td>2023-02-09T07:43:00.369996</td>\n",
       "      <td>Fulano 0</td>\n",
       "    </tr>\n",
       "    <tr>\n",
       "      <th>1</th>\n",
       "      <td>2023-02-09T07:43:00.378731</td>\n",
       "      <td>1</td>\n",
       "      <td>fulano2</td>\n",
       "      <td>3</td>\n",
       "      <td>2023-02-09T07:43:00.378735</td>\n",
       "      <td>Fulano 2</td>\n",
       "    </tr>\n",
       "    <tr>\n",
       "      <th>2</th>\n",
       "      <td>2023-02-09T07:43:00.384959</td>\n",
       "      <td>1</td>\n",
       "      <td>fulano4</td>\n",
       "      <td>5</td>\n",
       "      <td>2023-02-09T07:43:00.384963</td>\n",
       "      <td>Fulano 4</td>\n",
       "    </tr>\n",
       "    <tr>\n",
       "      <th>3</th>\n",
       "      <td>2023-02-09T07:43:00.388143</td>\n",
       "      <td>1</td>\n",
       "      <td>fulano5</td>\n",
       "      <td>6</td>\n",
       "      <td>2023-02-09T07:43:00.388147</td>\n",
       "      <td>Fulano 5</td>\n",
       "    </tr>\n",
       "    <tr>\n",
       "      <th>4</th>\n",
       "      <td>2023-02-09T07:43:00.391296</td>\n",
       "      <td>1</td>\n",
       "      <td>fulano6</td>\n",
       "      <td>7</td>\n",
       "      <td>2023-02-09T07:43:00.391300</td>\n",
       "      <td>Fulano 6</td>\n",
       "    </tr>\n",
       "    <tr>\n",
       "      <th>5</th>\n",
       "      <td>2023-02-09T07:43:00.394542</td>\n",
       "      <td>1</td>\n",
       "      <td>fulano7</td>\n",
       "      <td>8</td>\n",
       "      <td>2023-02-09T07:43:00.394546</td>\n",
       "      <td>Fulano 7</td>\n",
       "    </tr>\n",
       "    <tr>\n",
       "      <th>6</th>\n",
       "      <td>2023-02-09T07:43:00.397776</td>\n",
       "      <td>1</td>\n",
       "      <td>fulano8</td>\n",
       "      <td>9</td>\n",
       "      <td>2023-02-09T07:43:00.397779</td>\n",
       "      <td>Fulano 8</td>\n",
       "    </tr>\n",
       "    <tr>\n",
       "      <th>7</th>\n",
       "      <td>2023-02-09T07:43:00.401041</td>\n",
       "      <td>1</td>\n",
       "      <td>fulano9</td>\n",
       "      <td>10</td>\n",
       "      <td>2023-02-09T07:43:00.401045</td>\n",
       "      <td>Fulano 9</td>\n",
       "    </tr>\n",
       "    <tr>\n",
       "      <th>8</th>\n",
       "      <td>2023-02-09T08:23:44.014494</td>\n",
       "      <td>1</td>\n",
       "      <td>usuario1</td>\n",
       "      <td>11</td>\n",
       "      <td>2023-02-09T08:23:44.014500</td>\n",
       "      <td>Usuário</td>\n",
       "    </tr>\n",
       "    <tr>\n",
       "      <th>9</th>\n",
       "      <td>2023-02-09T08:27:30.092728</td>\n",
       "      <td>1</td>\n",
       "      <td>usuario10</td>\n",
       "      <td>12</td>\n",
       "      <td>2023-02-09T08:27:30.092734</td>\n",
       "      <td>Usuário 10</td>\n",
       "    </tr>\n",
       "  </tbody>\n",
       "</table>\n",
       "</div>"
      ],
      "text/plain": [
       "                 data_criacao  versao nome_usuario  id  \\\n",
       "0  2023-02-09T07:43:00.369991       1      fulano0   1   \n",
       "1  2023-02-09T07:43:00.378731       1      fulano2   3   \n",
       "2  2023-02-09T07:43:00.384959       1      fulano4   5   \n",
       "3  2023-02-09T07:43:00.388143       1      fulano5   6   \n",
       "4  2023-02-09T07:43:00.391296       1      fulano6   7   \n",
       "5  2023-02-09T07:43:00.394542       1      fulano7   8   \n",
       "6  2023-02-09T07:43:00.397776       1      fulano8   9   \n",
       "7  2023-02-09T07:43:00.401041       1      fulano9  10   \n",
       "8  2023-02-09T08:23:44.014494       1     usuario1  11   \n",
       "9  2023-02-09T08:27:30.092728       1    usuario10  12   \n",
       "\n",
       "             data_atualizacao        nome  \n",
       "0  2023-02-09T07:43:00.369996    Fulano 0  \n",
       "1  2023-02-09T07:43:00.378735    Fulano 2  \n",
       "2  2023-02-09T07:43:00.384963    Fulano 4  \n",
       "3  2023-02-09T07:43:00.388147    Fulano 5  \n",
       "4  2023-02-09T07:43:00.391300    Fulano 6  \n",
       "5  2023-02-09T07:43:00.394546    Fulano 7  \n",
       "6  2023-02-09T07:43:00.397779    Fulano 8  \n",
       "7  2023-02-09T07:43:00.401045    Fulano 9  \n",
       "8  2023-02-09T08:23:44.014500     Usuário  \n",
       "9  2023-02-09T08:27:30.092734  Usuário 10  "
      ]
     },
     "execution_count": 17,
     "metadata": {},
     "output_type": "execute_result"
    }
   ],
   "source": [
    "pd.DataFrame(retorno)"
   ]
  },
  {
   "cell_type": "code",
   "execution_count": 3,
   "id": "3af17c0a",
   "metadata": {},
   "outputs": [
    {
     "data": {
      "text/plain": [
       "<Response [200]>"
      ]
     },
     "execution_count": 3,
     "metadata": {},
     "output_type": "execute_result"
    }
   ],
   "source": [
    "response"
   ]
  },
  {
   "cell_type": "code",
   "execution_count": 4,
   "id": "7d6c62ec",
   "metadata": {},
   "outputs": [
    {
     "data": {
      "text/plain": [
       "{'data_criacao': '2023-02-09T07:43:00.369991',\n",
       " 'versao': 1,\n",
       " 'nome_usuario': 'fulano0',\n",
       " 'id': 1,\n",
       " 'data_atualizacao': '2023-02-09T07:43:00.369996',\n",
       " 'nome': 'Fulano 0'}"
      ]
     },
     "execution_count": 4,
     "metadata": {},
     "output_type": "execute_result"
    }
   ],
   "source": [
    "retorno[0]"
   ]
  },
  {
   "cell_type": "markdown",
   "id": "fdc88ce0",
   "metadata": {},
   "source": [
    "## Obter usuário específico"
   ]
  },
  {
   "cell_type": "code",
   "execution_count": 5,
   "id": "a5eabfd5",
   "metadata": {},
   "outputs": [
    {
     "data": {
      "text/plain": [
       "{'data_criacao': '2023-02-09T07:43:00.388143',\n",
       " 'versao': 1,\n",
       " 'nome_usuario': 'fulano5',\n",
       " 'id': 6,\n",
       " 'data_atualizacao': '2023-02-09T07:43:00.388147',\n",
       " 'nome': 'Fulano 5'}"
      ]
     },
     "execution_count": 5,
     "metadata": {},
     "output_type": "execute_result"
    }
   ],
   "source": [
    "nome_usuario = 'fulano5'\n",
    "\n",
    "url = f\"http://127.0.0.1:8000/usuarios/usuarios/{nome_usuario}\"\n",
    "\n",
    "payload={}\n",
    "headers = {\n",
    "  'accept': 'application/json'\n",
    "}\n",
    "\n",
    "response = requests.request(\"GET\", url, headers=headers, data=payload)\n",
    "\n",
    "retorno = json.loads(response.text)\n",
    "retorno"
   ]
  },
  {
   "cell_type": "markdown",
   "id": "af2ed87f",
   "metadata": {},
   "source": [
    "## Inserir usuário"
   ]
  },
  {
   "cell_type": "code",
   "execution_count": 6,
   "id": "3449d6b3",
   "metadata": {},
   "outputs": [],
   "source": [
    "url = \"http://127.0.0.1:8000/usuarios/usuarios\"\n",
    "\n",
    "payload = json.dumps({\n",
    "  \"nome\": \"Usuário 10\",\n",
    "  \"nome_usuario\": \"usuario10\"\n",
    "})\n",
    "\n",
    "headers = {\n",
    "  'accept': 'application/json',\n",
    "  'Content-Type': 'application/json'\n",
    "}\n",
    "\n",
    "response = requests.request(\"POST\", url, headers=headers, data=payload)"
   ]
  },
  {
   "cell_type": "code",
   "execution_count": 7,
   "id": "23c9f464",
   "metadata": {},
   "outputs": [
    {
     "data": {
      "text/plain": [
       "<Response [400]>"
      ]
     },
     "execution_count": 7,
     "metadata": {},
     "output_type": "execute_result"
    }
   ],
   "source": [
    "response"
   ]
  },
  {
   "cell_type": "code",
   "execution_count": 8,
   "id": "e1a4746b",
   "metadata": {},
   "outputs": [
    {
     "data": {
      "text/plain": [
       "{'detail': \"(sqlite3.IntegrityError) UNIQUE constraint failed: tb_usuario.nome_usuario\\n[SQL: INSERT INTO tb_usuario (data_criacao, data_atualizacao, versao, nome, nome_usuario) VALUES (?, ?, ?, ?, ?)]\\n[parameters: ('2023-02-09 08:32:40.359440', '2023-02-09 08:32:40.359446', 1, 'Usuário 10', 'usuario10')]\\n(Background on this error at: https://sqlalche.me/e/14/gkpj)\"}"
      ]
     },
     "execution_count": 8,
     "metadata": {},
     "output_type": "execute_result"
    }
   ],
   "source": [
    "retorno = json.loads(response.text)\n",
    "retorno"
   ]
  },
  {
   "cell_type": "markdown",
   "id": "19ec8e8b",
   "metadata": {},
   "source": [
    "## Alterar usuário"
   ]
  },
  {
   "cell_type": "code",
   "execution_count": 10,
   "id": "9e2fc13d",
   "metadata": {},
   "outputs": [
    {
     "data": {
      "text/plain": [
       "{'data_criacao': '2023-02-09T07:43:00.381910',\n",
       " 'versao': 5,\n",
       " 'nome_usuario': 'fulano3',\n",
       " 'id': 4,\n",
       " 'data_atualizacao': '2023-02-09T08:36:13.181398',\n",
       " 'nome': 'Fulano 3 alterado'}"
      ]
     },
     "execution_count": 10,
     "metadata": {},
     "output_type": "execute_result"
    }
   ],
   "source": [
    "nome_usuario = 'fulano3'\n",
    "\n",
    "\n",
    "url = f\"http://127.0.0.1:8000/usuarios/usuarios/{nome_usuario}\"\n",
    "\n",
    "payload = json.dumps({\n",
    "  \"nome\": \"Fulano 3 alterado\",\n",
    "  \"nome_usuario\": nome_usuario\n",
    "})\n",
    "headers = {\n",
    "  'accept': 'application/json',\n",
    "  'Content-Type': 'application/json'\n",
    "}\n",
    "\n",
    "response = requests.request(\"PUT\", url, headers=headers, data=payload)\n",
    "\n",
    "retorno = json.loads(response.text)\n",
    "retorno"
   ]
  },
  {
   "cell_type": "markdown",
   "id": "15c680fd",
   "metadata": {},
   "source": [
    "## Remover usuário"
   ]
  },
  {
   "cell_type": "code",
   "execution_count": 11,
   "id": "e7c5ca9b",
   "metadata": {},
   "outputs": [],
   "source": [
    "nome_usuario = 'fulano3'\n",
    "\n",
    "url = f\"http://127.0.0.1:8000/usuarios/usuarios/{nome_usuario}\"\n",
    "\n",
    "payload={}\n",
    "headers = {\n",
    "  'accept': 'application/json'\n",
    "}\n",
    "\n",
    "response = requests.request(\"DELETE\", url, headers=headers, data=payload)\n",
    "\n",
    "retorno = json.loads(response.text)\n",
    "retorno"
   ]
  },
  {
   "cell_type": "code",
   "execution_count": null,
   "id": "8dad38d8",
   "metadata": {},
   "outputs": [],
   "source": []
  }
 ],
 "metadata": {
  "kernelspec": {
   "display_name": "Python 3 (ipykernel)",
   "language": "python",
   "name": "python3"
  },
  "language_info": {
   "codemirror_mode": {
    "name": "ipython",
    "version": 3
   },
   "file_extension": ".py",
   "mimetype": "text/x-python",
   "name": "python",
   "nbconvert_exporter": "python",
   "pygments_lexer": "ipython3",
   "version": "3.9.7"
  }
 },
 "nbformat": 4,
 "nbformat_minor": 5
}
